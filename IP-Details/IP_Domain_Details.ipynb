{
  "nbformat": 4,
  "nbformat_minor": 0,
  "metadata": {
    "colab": {
      "name": "IP_Domain_Details.ipynb",
      "provenance": [],
      "collapsed_sections": []
    },
    "kernelspec": {
      "name": "python3",
      "display_name": "Python 3"
    },
    "language_info": {
      "name": "python"
    }
  },
  "cells": [
    {
      "cell_type": "code",
      "execution_count": 6,
      "metadata": {
        "colab": {
          "base_uri": "https://localhost:8080/"
        },
        "id": "RGgRnHiEotas",
        "outputId": "fd9060d3-5dcc-4b06-a6d6-873f4d54af91"
      },
      "outputs": [
        {
          "output_type": "stream",
          "name": "stdout",
          "text": [
            "54.240.30.183\n"
          ]
        }
      ],
      "source": [
        "import re\n",
        "import os\n",
        "\n",
        "def search_ip(file_path):   # searches for valid ip in file using Regular Expression\n",
        "    with open(file_path, 'r') as file:\n",
        "        content = file.read()\n",
        "        ip_address = re.findall(r'(?<=\\[)\\d{1,3}(?:\\.\\d{1,3}){3}(?=\\])', content)\n",
        "        return ip_address\n",
        "\n",
        "\n",
        "file_path = '/content/sample.eml'\n",
        "\n",
        "\n",
        "ip = str(search_ip(file_path))[2:-2]    # stores the sender's IP address\n",
        "\n",
        "\n",
        "print(ip)\n"
      ]
    },
    {
      "cell_type": "code",
      "source": [
        "!pip install python-whois"
      ],
      "metadata": {
        "colab": {
          "base_uri": "https://localhost:8080/"
        },
        "id": "cV13k4E-pXF1",
        "outputId": "0945e1b7-bd96-49a9-e250-31e0e5ac5789"
      },
      "execution_count": 7,
      "outputs": [
        {
          "output_type": "stream",
          "name": "stdout",
          "text": [
            "Looking in indexes: https://pypi.org/simple, https://us-python.pkg.dev/colab-wheels/public/simple/\n",
            "Requirement already satisfied: python-whois in /usr/local/lib/python3.7/dist-packages (0.8.0)\n",
            "Requirement already satisfied: future in /usr/local/lib/python3.7/dist-packages (from python-whois) (0.16.0)\n"
          ]
        }
      ]
    },
    {
      "cell_type": "code",
      "source": [
        "import whois\n",
        "import pandas as pd\n",
        "\n",
        "details = whois.whois(ip) # calling whois-api on the sender's IP\n",
        "details = dict(details)\n",
        "df = pd.json_normalize(details)\n",
        "print(df)\n",
        "\n"
      ],
      "metadata": {
        "colab": {
          "base_uri": "https://localhost:8080/"
        },
        "id": "ts-heXsgpewC",
        "outputId": "4ef56079-4041-40e8-e48c-e64be5408ac7"
      },
      "execution_count": 9,
      "outputs": [
        {
          "output_type": "stream",
          "name": "stdout",
          "text": [
            "                      domain_name          registrar           whois_server  \\\n",
            "0  [AMAZONSES.COM, amazonses.com]  MarkMonitor, Inc.  whois.markmonitor.com   \n",
            "\n",
            "  referral_url                                updated_date  \\\n",
            "0         None  [2019-05-07 20:21:35, 2019-08-26 19:19:56]   \n",
            "\n",
            "        creation_date                             expiration_date  \\\n",
            "0 2010-06-04 23:55:10  [2024-06-04 23:55:10, 2024-06-04 07:00:00]   \n",
            "\n",
            "                                        name_servers  \\\n",
            "0  [NS-1130.AWSDNS-13.ORG, NS-1722.AWSDNS-23.CO.U...   \n",
            "\n",
            "                                              status  \\\n",
            "0  [clientDeleteProhibited https://icann.org/epp#...   \n",
            "\n",
            "                                              emails    dnssec  \\\n",
            "0  [abusecomplaints@markmonitor.com, hostmaster@a...  unsigned   \n",
            "\n",
            "                             name                        org        address  \\\n",
            "0  Hostmaster, Amazon Legal Dept.  Amazon Technologies, Inc.  P.O. Box 8102   \n",
            "\n",
            "   city state registrant_postal_code country  \n",
            "0  Reno    NV                  89507      US  \n"
          ]
        }
      ]
    }
  ]
}