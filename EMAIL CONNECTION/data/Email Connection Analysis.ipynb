{
  "nbformat": 4,
  "nbformat_minor": 0,
  "metadata": {
    "colab": {
      "name": "Email Connection Analysis.ipynb",
      "provenance": [],
      "collapsed_sections": []
    },
    "kernelspec": {
      "name": "python3",
      "display_name": "Python 3"
    },
    "language_info": {
      "name": "python"
    }
  },
  "cells": [
    {
      "cell_type": "code",
      "execution_count": null,
      "metadata": {
        "id": "dlcmV0o79Rto"
      },
      "outputs": [],
      "source": [
        "#to-recieved / to-sent\n",
        "import random\n",
        "\n",
        "for i in range(1,300):\n",
        "\ty = random.randrange(40)\n",
        "\tprint(y)\n",
        "\n",
        "# returns int type"
      ]
    },
    {
      "cell_type": "code",
      "source": [
        "#From user mails\n",
        "import random\n",
        "\n",
        "for i in range (1,300):\n",
        "  randNum = random.randint(1,300)\n",
        "  Gmail = \"201B\"+ str(randNum) + \"@juetguna.in\"\n",
        "  print(Gmail)\n",
        "\n",
        "#returns string type"
      ],
      "metadata": {
        "id": "znyHyD05C4ot"
      },
      "execution_count": null,
      "outputs": []
    },
    {
      "cell_type": "code",
      "source": [
        "#To user mails \n",
        "import random \n",
        "\n",
        "for i in range (1,300):\n",
        "  randNum = random.randint(1,300)\n",
        "  mail = \"201B\" + str(randNum) + \"@jueguna.in\"\n",
        "  print(mail)\n",
        "  "
      ],
      "metadata": {
        "id": "JiQgI7O0DrbX"
      },
      "execution_count": null,
      "outputs": []
    },
    {
      "cell_type": "code",
      "source": [
        "import random\n",
        "\n",
        "def userId():\n",
        "  for i in range (1,300):\n",
        "    randNum = random.randint(1,300)\n",
        "    Gmail = \"201B\"+ str(randNum) + \"@juetguna.in\"\n",
        "    print(Gmail)\n",
        "\n",
        "def toUserId():\n",
        "  for i in range (1,300):\n",
        "    rNum = random.randint(1,300)\n",
        "    mail = \"201B\" + str(rNum) + \"@jueguna.in\"\n",
        "    print(mail)\n",
        "\n",
        "def toRecieved():\n",
        "  for i in range(1,300):\n",
        "\t  y = random.randrange(40)\n",
        "\t  print(y)\n",
        "   \n",
        "def toSent():\n",
        "  for i in range(1,300):\n",
        "    y = random.randrange(40)\n",
        "    print(y)\n"
      ],
      "metadata": {
        "id": "GlMh5I8oEuar"
      },
      "execution_count": 4,
      "outputs": []
    },
    {
      "cell_type": "code",
      "source": [
        "import pandas as pd\n",
        "\n",
        "lst = [userId(), toUserId(), toRecieved(), toSent()]\n",
        "df = pd.DataFrame(lst)\n",
        "print(df)"
      ],
      "metadata": {
        "id": "Fqbm36P1LV7t"
      },
      "execution_count": null,
      "outputs": []
    },
    {
      "cell_type": "code",
      "source": [
        "import random\n",
        "stlist = []\n",
        "def userId():\n",
        "  for i in range (1,300):\n",
        "    randNum = random.randint(1,300)\n",
        "    Gmail = \"201B\"+ str(randNum) + \"@juetguna.in\"\n",
        "    return(Gmail)\n",
        "\n",
        "def toUserId():\n",
        "  for i in range (1,300):\n",
        "    rNum = random.randint(1,300)\n",
        "    mail = \"201B\" + str(rNum) + \"@jueguna.in\"\n",
        "    return(mail)\n",
        "\n",
        "def toRecieved():\n",
        "  for i in range(1,300):\n",
        "\t  y = random.randrange(40)\n",
        "\t  return(y)\n",
        "   \n",
        "def toSent():\n",
        "  for i in range(1,300):\n",
        "    y = random.randrange(40)\n",
        "    return(y)\n",
        "\n",
        "for i in range(1,300):\n",
        "  lst = [userId(),toUserId(),toRecieved(),toSent()]\n",
        "  stlist.append(lst)\n"
      ],
      "metadata": {
        "id": "jZEAMcfKMHU-"
      },
      "execution_count": 15,
      "outputs": []
    },
    {
      "cell_type": "code",
      "source": [
        "import csv\n",
        "\n",
        "resultFile = open(\"final.csv\",'a+')\n",
        "wr = csv.writer(resultFile, dialect='excel')\n",
        "for i in stlist:\n",
        "  wr.writerow(i)\n",
        "resultFile.close()"
      ],
      "metadata": {
        "id": "KEsjyhgqw5y-"
      },
      "execution_count": 22,
      "outputs": []
    },
    {
      "cell_type": "code",
      "source": [
        "import numpy as np\n",
        "import pandas as pd\n",
        "\n",
        "arr = np.array(lst)\n",
        "arr.resize(4,4)\n",
        "\n",
        "df = pd.DataFrame(arr, columns = ['User-Id', 'To-User-Id', 'to-recieved', 'To-sent'])\n",
        "print(df)"
      ],
      "metadata": {
        "id": "-26tbAcVT74S"
      },
      "execution_count": null,
      "outputs": []
    },
    {
      "cell_type": "code",
      "source": [
        ""
      ],
      "metadata": {
        "id": "0Pe6FgWayfTX"
      },
      "execution_count": null,
      "outputs": []
    }
  ]
}