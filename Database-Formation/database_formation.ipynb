{
  "nbformat": 4,
  "nbformat_minor": 0,
  "metadata": {
    "colab": {
      "name": "database-formation",
      "provenance": [],
      "collapsed_sections": []
    },
    "kernelspec": {
      "name": "python3",
      "display_name": "Python 3"
    },
    "language_info": {
      "name": "python"
    }
  },
  "cells": [
    {
      "cell_type": "code",
      "source": [
        "!pip install -r requirements.txt"
      ],
      "metadata": {
        "colab": {
          "base_uri": "https://localhost:8080/"
        },
        "id": "YKAAlMqHeoiu",
        "outputId": "770918d7-5ba7-4170-b3c6-65e0dc9de9ce"
      },
      "execution_count": 1,
      "outputs": [
        {
          "output_type": "stream",
          "name": "stdout",
          "text": [
            "Looking in indexes: https://pypi.org/simple, https://us-python.pkg.dev/colab-wheels/public/simple/\n",
            "Requirement already satisfied: tldextract in /usr/local/lib/python3.7/dist-packages (from -r requirements.txt (line 1)) (3.3.1)\n",
            "Requirement already satisfied: py3dns in /usr/local/lib/python3.7/dist-packages (from -r requirements.txt (line 2)) (3.2.1)\n",
            "Requirement already satisfied: pyspf in /usr/local/lib/python3.7/dist-packages (from -r requirements.txt (line 3)) (2.0.14)\n",
            "Requirement already satisfied: beautifulsoup4 in /usr/local/lib/python3.7/dist-packages (from -r requirements.txt (line 4)) (4.6.3)\n",
            "Requirement already satisfied: filelock>=3.0.8 in /usr/local/lib/python3.7/dist-packages (from tldextract->-r requirements.txt (line 1)) (3.7.1)\n",
            "Requirement already satisfied: idna in /usr/local/lib/python3.7/dist-packages (from tldextract->-r requirements.txt (line 1)) (2.10)\n",
            "Requirement already satisfied: requests>=2.1.0 in /usr/local/lib/python3.7/dist-packages (from tldextract->-r requirements.txt (line 1)) (2.23.0)\n",
            "Requirement already satisfied: requests-file>=1.4 in /usr/local/lib/python3.7/dist-packages (from tldextract->-r requirements.txt (line 1)) (1.5.1)\n",
            "Requirement already satisfied: certifi>=2017.4.17 in /usr/local/lib/python3.7/dist-packages (from requests>=2.1.0->tldextract->-r requirements.txt (line 1)) (2022.6.15)\n",
            "Requirement already satisfied: chardet<4,>=3.0.2 in /usr/local/lib/python3.7/dist-packages (from requests>=2.1.0->tldextract->-r requirements.txt (line 1)) (3.0.4)\n",
            "Requirement already satisfied: urllib3!=1.25.0,!=1.25.1,<1.26,>=1.21.1 in /usr/local/lib/python3.7/dist-packages (from requests>=2.1.0->tldextract->-r requirements.txt (line 1)) (1.24.3)\n",
            "Requirement already satisfied: six in /usr/local/lib/python3.7/dist-packages (from requests-file>=1.4->tldextract->-r requirements.txt (line 1)) (1.15.0)\n"
          ]
        }
      ]
    },
    {
      "cell_type": "code",
      "source": [
        "%%capture cap\n",
        "!python meioc.py --exclude-private-ip --spf message.eml"
      ],
      "metadata": {
        "id": "0X789C71eogF"
      },
      "execution_count": 2,
      "outputs": []
    },
    {
      "cell_type": "code",
      "source": [
        "import pandas as pd\n",
        "import json"
      ],
      "metadata": {
        "id": "H4SpzOv2h4l5"
      },
      "execution_count": 3,
      "outputs": []
    },
    {
      "cell_type": "code",
      "source": [
        "f = open(\"jsonf.txt\", \"w\")\n",
        "print(cap, file=f)\n",
        "f.close()"
      ],
      "metadata": {
        "id": "8Q795bjke5lb"
      },
      "execution_count": 4,
      "outputs": []
    },
    {
      "cell_type": "code",
      "source": [
        "f = open('jsonf.txt')\n",
        "data = json.load(f)\n",
        "details = dict(data)\n",
        "df = pd.json_normalize(details)\n",
        "df.head()"
      ],
      "metadata": {
        "colab": {
          "base_uri": "https://localhost:8080/",
          "height": 243
        },
        "id": "w3dR2VTVeolA",
        "outputId": "eebcc4f0-49b5-45bf-ae68-55833439724f"
      },
      "execution_count": 5,
      "outputs": [
        {
          "output_type": "execute_result",
          "data": {
            "text/plain": [
              "      filename                               from  \\\n",
              "0  message.eml  hrteam@internship.medtoureasy.com   \n",
              "\n",
              "                              sender x-sender    cc   bcc envelope-to  \\\n",
              "0  hrteam@internship.medtoureasy.com     None  None  None        None   \n",
              "\n",
              "                      delivered-to                        return-path  \\\n",
              "0  tanishkhandelwaltk012@gmail.com  hrteam@internship.medtoureasy.com   \n",
              "\n",
              "                                             subject  ...  \\\n",
              "0  Congratulations Tanish Khandelwal, You have be...  ...   \n",
              "\n",
              "                                         attachments  \\\n",
              "0  [{'filename': 'Tanish Khandelwal.pdf', 'MD5': ...   \n",
              "\n",
              "                              to.0               relay_full.0  \\\n",
              "0  tanishkhandelwaltk012@gmail.com  91302273949 named unknown   \n",
              "\n",
              "                relay_full.1  \\\n",
              "0  91302273949 named unknown   \n",
              "\n",
              "                                        relay_full.2     relay_ip.0  \\\n",
              "0  mail-sor-f41.google.com (mail-sor-f41.google.c...  209.85.220.41   \n",
              "\n",
              "                        urls.0                     urls.1 domains.0  \\\n",
              "0  https://www.medtoureasy.com  https://rzp.io/l/KfIEnDBU    rzp.io   \n",
              "\n",
              "         domains.1  \n",
              "0  medtoureasy.com  \n",
              "\n",
              "[1 rows x 24 columns]"
            ],
            "text/html": [
              "\n",
              "  <div id=\"df-9e57afb2-d54e-4d75-9d91-c1001a6f9f2f\">\n",
              "    <div class=\"colab-df-container\">\n",
              "      <div>\n",
              "<style scoped>\n",
              "    .dataframe tbody tr th:only-of-type {\n",
              "        vertical-align: middle;\n",
              "    }\n",
              "\n",
              "    .dataframe tbody tr th {\n",
              "        vertical-align: top;\n",
              "    }\n",
              "\n",
              "    .dataframe thead th {\n",
              "        text-align: right;\n",
              "    }\n",
              "</style>\n",
              "<table border=\"1\" class=\"dataframe\">\n",
              "  <thead>\n",
              "    <tr style=\"text-align: right;\">\n",
              "      <th></th>\n",
              "      <th>filename</th>\n",
              "      <th>from</th>\n",
              "      <th>sender</th>\n",
              "      <th>x-sender</th>\n",
              "      <th>cc</th>\n",
              "      <th>bcc</th>\n",
              "      <th>envelope-to</th>\n",
              "      <th>delivered-to</th>\n",
              "      <th>return-path</th>\n",
              "      <th>subject</th>\n",
              "      <th>...</th>\n",
              "      <th>attachments</th>\n",
              "      <th>to.0</th>\n",
              "      <th>relay_full.0</th>\n",
              "      <th>relay_full.1</th>\n",
              "      <th>relay_full.2</th>\n",
              "      <th>relay_ip.0</th>\n",
              "      <th>urls.0</th>\n",
              "      <th>urls.1</th>\n",
              "      <th>domains.0</th>\n",
              "      <th>domains.1</th>\n",
              "    </tr>\n",
              "  </thead>\n",
              "  <tbody>\n",
              "    <tr>\n",
              "      <th>0</th>\n",
              "      <td>message.eml</td>\n",
              "      <td>hrteam@internship.medtoureasy.com</td>\n",
              "      <td>hrteam@internship.medtoureasy.com</td>\n",
              "      <td>None</td>\n",
              "      <td>None</td>\n",
              "      <td>None</td>\n",
              "      <td>None</td>\n",
              "      <td>tanishkhandelwaltk012@gmail.com</td>\n",
              "      <td>hrteam@internship.medtoureasy.com</td>\n",
              "      <td>Congratulations Tanish Khandelwal, You have be...</td>\n",
              "      <td>...</td>\n",
              "      <td>[{'filename': 'Tanish Khandelwal.pdf', 'MD5': ...</td>\n",
              "      <td>tanishkhandelwaltk012@gmail.com</td>\n",
              "      <td>91302273949 named unknown</td>\n",
              "      <td>91302273949 named unknown</td>\n",
              "      <td>mail-sor-f41.google.com (mail-sor-f41.google.c...</td>\n",
              "      <td>209.85.220.41</td>\n",
              "      <td>https://www.medtoureasy.com</td>\n",
              "      <td>https://rzp.io/l/KfIEnDBU</td>\n",
              "      <td>rzp.io</td>\n",
              "      <td>medtoureasy.com</td>\n",
              "    </tr>\n",
              "  </tbody>\n",
              "</table>\n",
              "<p>1 rows × 24 columns</p>\n",
              "</div>\n",
              "      <button class=\"colab-df-convert\" onclick=\"convertToInteractive('df-9e57afb2-d54e-4d75-9d91-c1001a6f9f2f')\"\n",
              "              title=\"Convert this dataframe to an interactive table.\"\n",
              "              style=\"display:none;\">\n",
              "        \n",
              "  <svg xmlns=\"http://www.w3.org/2000/svg\" height=\"24px\"viewBox=\"0 0 24 24\"\n",
              "       width=\"24px\">\n",
              "    <path d=\"M0 0h24v24H0V0z\" fill=\"none\"/>\n",
              "    <path d=\"M18.56 5.44l.94 2.06.94-2.06 2.06-.94-2.06-.94-.94-2.06-.94 2.06-2.06.94zm-11 1L8.5 8.5l.94-2.06 2.06-.94-2.06-.94L8.5 2.5l-.94 2.06-2.06.94zm10 10l.94 2.06.94-2.06 2.06-.94-2.06-.94-.94-2.06-.94 2.06-2.06.94z\"/><path d=\"M17.41 7.96l-1.37-1.37c-.4-.4-.92-.59-1.43-.59-.52 0-1.04.2-1.43.59L10.3 9.45l-7.72 7.72c-.78.78-.78 2.05 0 2.83L4 21.41c.39.39.9.59 1.41.59.51 0 1.02-.2 1.41-.59l7.78-7.78 2.81-2.81c.8-.78.8-2.07 0-2.86zM5.41 20L4 18.59l7.72-7.72 1.47 1.35L5.41 20z\"/>\n",
              "  </svg>\n",
              "      </button>\n",
              "      \n",
              "  <style>\n",
              "    .colab-df-container {\n",
              "      display:flex;\n",
              "      flex-wrap:wrap;\n",
              "      gap: 12px;\n",
              "    }\n",
              "\n",
              "    .colab-df-convert {\n",
              "      background-color: #E8F0FE;\n",
              "      border: none;\n",
              "      border-radius: 50%;\n",
              "      cursor: pointer;\n",
              "      display: none;\n",
              "      fill: #1967D2;\n",
              "      height: 32px;\n",
              "      padding: 0 0 0 0;\n",
              "      width: 32px;\n",
              "    }\n",
              "\n",
              "    .colab-df-convert:hover {\n",
              "      background-color: #E2EBFA;\n",
              "      box-shadow: 0px 1px 2px rgba(60, 64, 67, 0.3), 0px 1px 3px 1px rgba(60, 64, 67, 0.15);\n",
              "      fill: #174EA6;\n",
              "    }\n",
              "\n",
              "    [theme=dark] .colab-df-convert {\n",
              "      background-color: #3B4455;\n",
              "      fill: #D2E3FC;\n",
              "    }\n",
              "\n",
              "    [theme=dark] .colab-df-convert:hover {\n",
              "      background-color: #434B5C;\n",
              "      box-shadow: 0px 1px 3px 1px rgba(0, 0, 0, 0.15);\n",
              "      filter: drop-shadow(0px 1px 2px rgba(0, 0, 0, 0.3));\n",
              "      fill: #FFFFFF;\n",
              "    }\n",
              "  </style>\n",
              "\n",
              "      <script>\n",
              "        const buttonEl =\n",
              "          document.querySelector('#df-9e57afb2-d54e-4d75-9d91-c1001a6f9f2f button.colab-df-convert');\n",
              "        buttonEl.style.display =\n",
              "          google.colab.kernel.accessAllowed ? 'block' : 'none';\n",
              "\n",
              "        async function convertToInteractive(key) {\n",
              "          const element = document.querySelector('#df-9e57afb2-d54e-4d75-9d91-c1001a6f9f2f');\n",
              "          const dataTable =\n",
              "            await google.colab.kernel.invokeFunction('convertToInteractive',\n",
              "                                                     [key], {});\n",
              "          if (!dataTable) return;\n",
              "\n",
              "          const docLinkHtml = 'Like what you see? Visit the ' +\n",
              "            '<a target=\"_blank\" href=https://colab.research.google.com/notebooks/data_table.ipynb>data table notebook</a>'\n",
              "            + ' to learn more about interactive tables.';\n",
              "          element.innerHTML = '';\n",
              "          dataTable['output_type'] = 'display_data';\n",
              "          await google.colab.output.renderOutput(dataTable, element);\n",
              "          const docLink = document.createElement('div');\n",
              "          docLink.innerHTML = docLinkHtml;\n",
              "          element.appendChild(docLink);\n",
              "        }\n",
              "      </script>\n",
              "    </div>\n",
              "  </div>\n",
              "  "
            ]
          },
          "metadata": {},
          "execution_count": 5
        }
      ]
    },
    {
      "cell_type": "code",
      "source": [
        ""
      ],
      "metadata": {
        "id": "M_F5YzN8eonk"
      },
      "execution_count": 5,
      "outputs": []
    }
  ]
}