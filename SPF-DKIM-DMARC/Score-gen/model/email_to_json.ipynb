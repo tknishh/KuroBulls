{
  "nbformat": 4,
  "nbformat_minor": 0,
  "metadata": {
    "colab": {
      "name": "email to json.ipynb",
      "provenance": []
    },
    "kernelspec": {
      "name": "python3",
      "display_name": "Python 3"
    },
    "language_info": {
      "name": "python"
    }
  },
  "cells": [
    {
      "cell_type": "code",
      "source": [
        "from email import policy\n",
        "from email.parser import BytesParser\n",
        "import os, glob\n",
        "import pandas as pd\n",
        "import json"
      ],
      "metadata": {
        "id": "W2BWDu2J9vL3"
      },
      "execution_count": 41,
      "outputs": []
    },
    {
      "cell_type": "code",
      "source": [
        "path = '/content/e3.eml'"
      ],
      "metadata": {
        "id": "RbVF7dVLGpAr"
      },
      "execution_count": 42,
      "outputs": []
    },
    {
      "cell_type": "code",
      "source": [
        "def email_to_dict(file_path):\n",
        "  with open(file_path, 'rb') as fp:\n",
        "    msg = BytesParser(policy=policy.default).parse(fp)\n",
        "  entities = msg.keys()\n",
        "  emailData= {}\n",
        "  for entity in entities:\n",
        "    emailData.update({entity : msg[entity]})\n",
        "  return emailData"
      ],
      "metadata": {
        "id": "WIxLRYnzFNJF"
      },
      "execution_count": 43,
      "outputs": []
    },
    {
      "cell_type": "code",
      "source": [
        "def dict_to_df(obj_dict):     # returns email data in DataFrame type\n",
        "  df = pd.json_normalize(obj_dict)\n",
        "  df = df.append(df).reset_index()\n",
        "  df = df.drop(columns = 'index')\n",
        "  return df"
      ],
      "metadata": {
        "id": "534s5Oory0J7"
      },
      "execution_count": 44,
      "outputs": []
    },
    {
      "cell_type": "code",
      "source": [
        "# def dict_to_jsonFile(obj_dict):\n",
        "#   with open('data.json', 'w', encoding='utf-8') as f:\n",
        "#     json.dump(obj_dict, f, ensure_ascii=False, indent=4)  "
      ],
      "metadata": {
        "id": "43fzQEd5CrFe"
      },
      "execution_count": 45,
      "outputs": []
    },
    {
      "cell_type": "code",
      "source": [
        "emailData = email_to_dict(path)"
      ],
      "metadata": {
        "id": "YvMfgh8VG38F"
      },
      "execution_count": 46,
      "outputs": []
    },
    {
      "cell_type": "code",
      "source": [
        "# dict_to_jsonFile(emailData)"
      ],
      "metadata": {
        "id": "fVU5GyolDFJ_"
      },
      "execution_count": 47,
      "outputs": []
    },
    {
      "cell_type": "code",
      "source": [
        "cz = dict_to_df(emailData)"
      ],
      "metadata": {
        "id": "vIowlM3gBe_q"
      },
      "execution_count": 48,
      "outputs": []
    },
    {
      "cell_type": "code",
      "source": [
        "cz"
      ],
      "metadata": {
        "id": "NMlyJ-3XTJTO",
        "outputId": "85ccced5-d958-4ac6-8d94-b1aa2d3a04f2",
        "colab": {
          "base_uri": "https://localhost:8080/",
          "height": 379
        }
      },
      "execution_count": 49,
      "outputs": [
        {
          "output_type": "execute_result",
          "data": {
            "text/plain": [
              "                      Delivered-To  \\\n",
              "0  sirdonaldfrancesco015@gmail.com   \n",
              "1  sirdonaldfrancesco015@gmail.com   \n",
              "\n",
              "                                            Received  \\\n",
              "0  by 2002:a05:6359:4287:b0:b3:862c:9b88 with SMT...   \n",
              "1  by 2002:a05:6359:4287:b0:b3:862c:9b88 with SMT...   \n",
              "\n",
              "                                X-Google-Smtp-Source  \\\n",
              "0  AA6agR4y9S0lDUjYhWsRinlnKBxK5JnuxtkAB+tskFseI4...   \n",
              "1  AA6agR4y9S0lDUjYhWsRinlnKBxK5JnuxtkAB+tskFseI4...   \n",
              "\n",
              "                                          X-Received  \\\n",
              "0  by 2002:a05:6214:5198:b0:475:4e71:6fee with SM...   \n",
              "1  by 2002:a05:6214:5198:b0:475:4e71:6fee with SM...   \n",
              "\n",
              "                                            ARC-Seal  \\\n",
              "0  i=1; a=rsa-sha256; t=1660563671; cv=none;     ...   \n",
              "1  i=1; a=rsa-sha256; t=1660563671; cv=none;     ...   \n",
              "\n",
              "                               ARC-Message-Signature  \\\n",
              "0  i=1; a=rsa-sha256; c=relaxed/relaxed; d=google...   \n",
              "1  i=1; a=rsa-sha256; c=relaxed/relaxed; d=google...   \n",
              "\n",
              "                          ARC-Authentication-Results  \\\n",
              "0  i=1; mx.google.com;       dkim=pass header.i=@...   \n",
              "1  i=1; mx.google.com;       dkim=pass header.i=@...   \n",
              "\n",
              "                                         Return-Path  \\\n",
              "0  <campaign-myntrabuyercom-96861-3577-42766653-s...   \n",
              "1  <campaign-myntrabuyercom-96861-3577-42766653-s...   \n",
              "\n",
              "                                        Received-SPF  \\\n",
              "0  pass (google.com: domain of campaign-myntrabuy...   \n",
              "1  pass (google.com: domain of campaign-myntrabuy...   \n",
              "\n",
              "                              Authentication-Results  ...  \\\n",
              "0  mx.google.com;       dkim=pass header.i=@myntr...  ...   \n",
              "1  mx.google.com;       dkim=pass header.i=@myntr...  ...   \n",
              "\n",
              "                                 DomainKey-Signature  \\\n",
              "0  a=rsa-sha1; c=nofws; q=dns; s=ncfal; d=myntra....   \n",
              "1  a=rsa-sha1; c=nofws; q=dns; s=ncfal; d=myntra....   \n",
              "\n",
              "                                To                         From  \\\n",
              "0  sirdonaldfrancesco015@gmail.com  Myntra <updates@myntra.com>   \n",
              "1  sirdonaldfrancesco015@gmail.com  Myntra <updates@myntra.com>   \n",
              "\n",
              "                      Reply-To                    Subject  \\\n",
              "0  Myntra <updates@myntra.com>  Happy Independence Day 🇮🇳   \n",
              "1  Myntra <updates@myntra.com>  Happy Independence Day 🇮🇳   \n",
              "\n",
              "                      Feedback-ID MIME-Version  \\\n",
              "0  3577:96861:20220815154748:nczc          1.0   \n",
              "1  3577:96861:20220815154748:nczc          1.0   \n",
              "\n",
              "                                        Content-Type  \\\n",
              "0  multipart/alternative; boundary=\"b1_21d9126a09...   \n",
              "1  multipart/alternative; boundary=\"b1_21d9126a09...   \n",
              "\n",
              "                                          Message-ID  \\\n",
              "0  <0.0.264.4E.1D8B09BEA580FFA.0@mta6-66.254.ptra...   \n",
              "1  <0.0.264.4E.1D8B09BEA580FFA.0@mta6-66.254.ptra...   \n",
              "\n",
              "                              Date  \n",
              "0  Mon, 15 Aug 2022 17:11:11 +0530  \n",
              "1  Mon, 15 Aug 2022 17:11:11 +0530  \n",
              "\n",
              "[2 rows x 21 columns]"
            ],
            "text/html": [
              "\n",
              "  <div id=\"df-67412ba8-0e61-4405-b016-e4ab18462675\">\n",
              "    <div class=\"colab-df-container\">\n",
              "      <div>\n",
              "<style scoped>\n",
              "    .dataframe tbody tr th:only-of-type {\n",
              "        vertical-align: middle;\n",
              "    }\n",
              "\n",
              "    .dataframe tbody tr th {\n",
              "        vertical-align: top;\n",
              "    }\n",
              "\n",
              "    .dataframe thead th {\n",
              "        text-align: right;\n",
              "    }\n",
              "</style>\n",
              "<table border=\"1\" class=\"dataframe\">\n",
              "  <thead>\n",
              "    <tr style=\"text-align: right;\">\n",
              "      <th></th>\n",
              "      <th>Delivered-To</th>\n",
              "      <th>Received</th>\n",
              "      <th>X-Google-Smtp-Source</th>\n",
              "      <th>X-Received</th>\n",
              "      <th>ARC-Seal</th>\n",
              "      <th>ARC-Message-Signature</th>\n",
              "      <th>ARC-Authentication-Results</th>\n",
              "      <th>Return-Path</th>\n",
              "      <th>Received-SPF</th>\n",
              "      <th>Authentication-Results</th>\n",
              "      <th>...</th>\n",
              "      <th>DomainKey-Signature</th>\n",
              "      <th>To</th>\n",
              "      <th>From</th>\n",
              "      <th>Reply-To</th>\n",
              "      <th>Subject</th>\n",
              "      <th>Feedback-ID</th>\n",
              "      <th>MIME-Version</th>\n",
              "      <th>Content-Type</th>\n",
              "      <th>Message-ID</th>\n",
              "      <th>Date</th>\n",
              "    </tr>\n",
              "  </thead>\n",
              "  <tbody>\n",
              "    <tr>\n",
              "      <th>0</th>\n",
              "      <td>sirdonaldfrancesco015@gmail.com</td>\n",
              "      <td>by 2002:a05:6359:4287:b0:b3:862c:9b88 with SMT...</td>\n",
              "      <td>AA6agR4y9S0lDUjYhWsRinlnKBxK5JnuxtkAB+tskFseI4...</td>\n",
              "      <td>by 2002:a05:6214:5198:b0:475:4e71:6fee with SM...</td>\n",
              "      <td>i=1; a=rsa-sha256; t=1660563671; cv=none;     ...</td>\n",
              "      <td>i=1; a=rsa-sha256; c=relaxed/relaxed; d=google...</td>\n",
              "      <td>i=1; mx.google.com;       dkim=pass header.i=@...</td>\n",
              "      <td>&lt;campaign-myntrabuyercom-96861-3577-42766653-s...</td>\n",
              "      <td>pass (google.com: domain of campaign-myntrabuy...</td>\n",
              "      <td>mx.google.com;       dkim=pass header.i=@myntr...</td>\n",
              "      <td>...</td>\n",
              "      <td>a=rsa-sha1; c=nofws; q=dns; s=ncfal; d=myntra....</td>\n",
              "      <td>sirdonaldfrancesco015@gmail.com</td>\n",
              "      <td>Myntra &lt;updates@myntra.com&gt;</td>\n",
              "      <td>Myntra &lt;updates@myntra.com&gt;</td>\n",
              "      <td>Happy Independence Day 🇮🇳</td>\n",
              "      <td>3577:96861:20220815154748:nczc</td>\n",
              "      <td>1.0</td>\n",
              "      <td>multipart/alternative; boundary=\"b1_21d9126a09...</td>\n",
              "      <td>&lt;0.0.264.4E.1D8B09BEA580FFA.0@mta6-66.254.ptra...</td>\n",
              "      <td>Mon, 15 Aug 2022 17:11:11 +0530</td>\n",
              "    </tr>\n",
              "    <tr>\n",
              "      <th>1</th>\n",
              "      <td>sirdonaldfrancesco015@gmail.com</td>\n",
              "      <td>by 2002:a05:6359:4287:b0:b3:862c:9b88 with SMT...</td>\n",
              "      <td>AA6agR4y9S0lDUjYhWsRinlnKBxK5JnuxtkAB+tskFseI4...</td>\n",
              "      <td>by 2002:a05:6214:5198:b0:475:4e71:6fee with SM...</td>\n",
              "      <td>i=1; a=rsa-sha256; t=1660563671; cv=none;     ...</td>\n",
              "      <td>i=1; a=rsa-sha256; c=relaxed/relaxed; d=google...</td>\n",
              "      <td>i=1; mx.google.com;       dkim=pass header.i=@...</td>\n",
              "      <td>&lt;campaign-myntrabuyercom-96861-3577-42766653-s...</td>\n",
              "      <td>pass (google.com: domain of campaign-myntrabuy...</td>\n",
              "      <td>mx.google.com;       dkim=pass header.i=@myntr...</td>\n",
              "      <td>...</td>\n",
              "      <td>a=rsa-sha1; c=nofws; q=dns; s=ncfal; d=myntra....</td>\n",
              "      <td>sirdonaldfrancesco015@gmail.com</td>\n",
              "      <td>Myntra &lt;updates@myntra.com&gt;</td>\n",
              "      <td>Myntra &lt;updates@myntra.com&gt;</td>\n",
              "      <td>Happy Independence Day 🇮🇳</td>\n",
              "      <td>3577:96861:20220815154748:nczc</td>\n",
              "      <td>1.0</td>\n",
              "      <td>multipart/alternative; boundary=\"b1_21d9126a09...</td>\n",
              "      <td>&lt;0.0.264.4E.1D8B09BEA580FFA.0@mta6-66.254.ptra...</td>\n",
              "      <td>Mon, 15 Aug 2022 17:11:11 +0530</td>\n",
              "    </tr>\n",
              "  </tbody>\n",
              "</table>\n",
              "<p>2 rows × 21 columns</p>\n",
              "</div>\n",
              "      <button class=\"colab-df-convert\" onclick=\"convertToInteractive('df-67412ba8-0e61-4405-b016-e4ab18462675')\"\n",
              "              title=\"Convert this dataframe to an interactive table.\"\n",
              "              style=\"display:none;\">\n",
              "        \n",
              "  <svg xmlns=\"http://www.w3.org/2000/svg\" height=\"24px\"viewBox=\"0 0 24 24\"\n",
              "       width=\"24px\">\n",
              "    <path d=\"M0 0h24v24H0V0z\" fill=\"none\"/>\n",
              "    <path d=\"M18.56 5.44l.94 2.06.94-2.06 2.06-.94-2.06-.94-.94-2.06-.94 2.06-2.06.94zm-11 1L8.5 8.5l.94-2.06 2.06-.94-2.06-.94L8.5 2.5l-.94 2.06-2.06.94zm10 10l.94 2.06.94-2.06 2.06-.94-2.06-.94-.94-2.06-.94 2.06-2.06.94z\"/><path d=\"M17.41 7.96l-1.37-1.37c-.4-.4-.92-.59-1.43-.59-.52 0-1.04.2-1.43.59L10.3 9.45l-7.72 7.72c-.78.78-.78 2.05 0 2.83L4 21.41c.39.39.9.59 1.41.59.51 0 1.02-.2 1.41-.59l7.78-7.78 2.81-2.81c.8-.78.8-2.07 0-2.86zM5.41 20L4 18.59l7.72-7.72 1.47 1.35L5.41 20z\"/>\n",
              "  </svg>\n",
              "      </button>\n",
              "      \n",
              "  <style>\n",
              "    .colab-df-container {\n",
              "      display:flex;\n",
              "      flex-wrap:wrap;\n",
              "      gap: 12px;\n",
              "    }\n",
              "\n",
              "    .colab-df-convert {\n",
              "      background-color: #E8F0FE;\n",
              "      border: none;\n",
              "      border-radius: 50%;\n",
              "      cursor: pointer;\n",
              "      display: none;\n",
              "      fill: #1967D2;\n",
              "      height: 32px;\n",
              "      padding: 0 0 0 0;\n",
              "      width: 32px;\n",
              "    }\n",
              "\n",
              "    .colab-df-convert:hover {\n",
              "      background-color: #E2EBFA;\n",
              "      box-shadow: 0px 1px 2px rgba(60, 64, 67, 0.3), 0px 1px 3px 1px rgba(60, 64, 67, 0.15);\n",
              "      fill: #174EA6;\n",
              "    }\n",
              "\n",
              "    [theme=dark] .colab-df-convert {\n",
              "      background-color: #3B4455;\n",
              "      fill: #D2E3FC;\n",
              "    }\n",
              "\n",
              "    [theme=dark] .colab-df-convert:hover {\n",
              "      background-color: #434B5C;\n",
              "      box-shadow: 0px 1px 3px 1px rgba(0, 0, 0, 0.15);\n",
              "      filter: drop-shadow(0px 1px 2px rgba(0, 0, 0, 0.3));\n",
              "      fill: #FFFFFF;\n",
              "    }\n",
              "  </style>\n",
              "\n",
              "      <script>\n",
              "        const buttonEl =\n",
              "          document.querySelector('#df-67412ba8-0e61-4405-b016-e4ab18462675 button.colab-df-convert');\n",
              "        buttonEl.style.display =\n",
              "          google.colab.kernel.accessAllowed ? 'block' : 'none';\n",
              "\n",
              "        async function convertToInteractive(key) {\n",
              "          const element = document.querySelector('#df-67412ba8-0e61-4405-b016-e4ab18462675');\n",
              "          const dataTable =\n",
              "            await google.colab.kernel.invokeFunction('convertToInteractive',\n",
              "                                                     [key], {});\n",
              "          if (!dataTable) return;\n",
              "\n",
              "          const docLinkHtml = 'Like what you see? Visit the ' +\n",
              "            '<a target=\"_blank\" href=https://colab.research.google.com/notebooks/data_table.ipynb>data table notebook</a>'\n",
              "            + ' to learn more about interactive tables.';\n",
              "          element.innerHTML = '';\n",
              "          dataTable['output_type'] = 'display_data';\n",
              "          await google.colab.output.renderOutput(dataTable, element);\n",
              "          const docLink = document.createElement('div');\n",
              "          docLink.innerHTML = docLinkHtml;\n",
              "          element.appendChild(docLink);\n",
              "        }\n",
              "      </script>\n",
              "    </div>\n",
              "  </div>\n",
              "  "
            ]
          },
          "metadata": {},
          "execution_count": 49
        }
      ]
    },
    {
      "cell_type": "code",
      "source": [
        "cz['Received-SPF']"
      ],
      "metadata": {
        "id": "8i9WMoaO_haA",
        "outputId": "7717894d-1eaa-48a2-a088-f7a2c8793a5a",
        "colab": {
          "base_uri": "https://localhost:8080/"
        }
      },
      "execution_count": 50,
      "outputs": [
        {
          "output_type": "execute_result",
          "data": {
            "text/plain": [
              "0    pass (google.com: domain of campaign-myntrabuy...\n",
              "1    pass (google.com: domain of campaign-myntrabuy...\n",
              "Name: Received-SPF, dtype: object"
            ]
          },
          "metadata": {},
          "execution_count": 50
        }
      ]
    },
    {
      "cell_type": "code",
      "source": [
        "import re \n",
        "st = str(cz['Received-SPF'])\n",
        "val = re.findall(r'\\b(?:softfail|pass|neutral|fail)\\b', st)"
      ],
      "metadata": {
        "id": "iBLVf8Zv_mRP"
      },
      "execution_count": 51,
      "outputs": []
    },
    {
      "cell_type": "code",
      "source": [
        "val"
      ],
      "metadata": {
        "id": "qTyP66ckAjzc",
        "outputId": "a2473d28-5cb1-41b2-d51e-fee661c3feea",
        "colab": {
          "base_uri": "https://localhost:8080/"
        }
      },
      "execution_count": 52,
      "outputs": [
        {
          "output_type": "execute_result",
          "data": {
            "text/plain": [
              "['pass', 'pass']"
            ]
          },
          "metadata": {},
          "execution_count": 52
        }
      ]
    },
    {
      "cell_type": "code",
      "source": [
        "cz['ARC-Authentication-Results']"
      ],
      "metadata": {
        "id": "z5UjOk7xA2nQ",
        "outputId": "b733dc17-0533-4525-e768-7e851fdfe318",
        "colab": {
          "base_uri": "https://localhost:8080/"
        }
      },
      "execution_count": 53,
      "outputs": [
        {
          "output_type": "execute_result",
          "data": {
            "text/plain": [
              "0    i=1; mx.google.com;       dkim=pass header.i=@...\n",
              "1    i=1; mx.google.com;       dkim=pass header.i=@...\n",
              "Name: ARC-Authentication-Results, dtype: object"
            ]
          },
          "metadata": {},
          "execution_count": 53
        }
      ]
    },
    {
      "cell_type": "code",
      "source": [
        ""
      ],
      "metadata": {
        "id": "Fms0_b9ELlpE"
      },
      "execution_count": null,
      "outputs": []
    }
  ]
}